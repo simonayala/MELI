{
 "cells": [
  {
   "cell_type": "markdown",
   "id": "c5a844c2-465e-4722-967b-50dbe97df3ca",
   "metadata": {},
   "source": [
    "# Optimización de Stock"
   ]
  },
  {
   "attachments": {},
   "cell_type": "markdown",
   "id": "afaf24c8-94a9-4630-9863-262cbd2f24b2",
   "metadata": {},
   "source": [
    "Para abordar este problema utilizaría un modelo de predicción similar al que utilicé para la predicción de ventas, es decir un modelo de estimación de series temporales que incluya estacionalidad como por ejemplo NeuralProphet. Siendo que para comprar inventario y almacenarlo en las bodegas se requiere logistica y gastos de organización y tiempo, lo ideal sería no reajustar el stock diariamente sino en un período mas grande por ejemplo semana o mes para asi minimizar la cantidad de envíos que habría que realizar. A su vez, si los ajustes se realizan cada mucho tiempo eso implicaría guardar stock para todo el mes/semana lo que ocuparía más espacio. Lo ideal sería encontrar un balance entre los costos de logística y la optimización de espacio. \n",
    "\n",
    "Si trabajamos con ajustes de stock mensuales, entonces el proceso consistiría en estimar la cantidad de ventas que se realizarán en el próximo mes para cada ítem y compararlo con el stock disponible para cada uno de ellos. La cantidad óptima de stock almacenado debería ser aquella que alcance a cubrir exactamente las ventas del siguiente mes, es decir que ventas-stock=0. Si el resultado indica que el stock no alcanzará para satisfacer las ventas del mes (ventas_estimadas>stock), sería aconsejable almacenar mas productos y la cantidad a almacenar sería igual a ventas_estimadas-stock. Esta estimación debería realizarse teniendo en cuenta los tiempos de traslado de mercadería para evitar que el stock sea cero antes de que se puedan almacenar nuevamente los items. En cambio, si el resultado indica que el stock es igual o mayor a la cantidad estimada de ventas, no se debería comprar inventario.\n",
    "\n",
    "Se podrían también agregar estimaciones mas frecuentes del stock para el resto del mes para verificar si hay eventos particulares o shocks que afecten las cantidades de ventas estimadas lo suficientemente grandes como para requerir otro ajuste de stock a mediados de mes.\n",
    "\n",
    "El mes siguiente se realizaría el mismo proceso, estimando las ventas para el mes posterior, usando el stock a ese momento. \n",
    "\n",
    "En el gráfico de abajo se explica de manera simple el procedimiento, empezamos en el mes1 con un stock inicial y en base a las ventas estimadas derivamos un stock estimado al final del mes (idealmente sería cero), momento en el cual se reestimarían las ventas para el mes 2, y se haría el restock necesario para cubrir las ventas de ese mes.\n",
    "\n",
    "![Stock2.jpg](Stock2.jpg)\n"
   ]
  },
  {
   "cell_type": "code",
   "execution_count": null,
   "id": "b62330c5-4791-4ea8-81f8-6b5cb0075244",
   "metadata": {},
   "outputs": [],
   "source": []
  }
 ],
 "metadata": {
  "kernelspec": {
   "display_name": "Python [conda env:base] *",
   "language": "python",
   "name": "conda-base-py"
  },
  "language_info": {
   "codemirror_mode": {
    "name": "ipython",
    "version": 3
   },
   "file_extension": ".py",
   "mimetype": "text/x-python",
   "name": "python",
   "nbconvert_exporter": "python",
   "pygments_lexer": "ipython3",
   "version": "3.12.3"
  }
 },
 "nbformat": 4,
 "nbformat_minor": 5
}
